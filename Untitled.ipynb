{
 "cells": [
  {
   "cell_type": "code",
   "execution_count": 7,
   "metadata": {
    "collapsed": false
   },
   "outputs": [],
   "source": [
    "import matplotlib.pyplot as plt\n",
    "import numpy as np\n",
    "\n",
    "def pic(request, c=\"k\"):\n",
    "    t=np.linspace(0,2*np.pi,30)\n",
    "    u=np.sin(t)\n",
    "    plt.figure()\n",
    "    plt.plot(t, u, color=c)\n",
    "    from io import BytesIO\n",
    "    figfile=BytesIO()\n",
    "    try: plt.savefig(figfile, format='png')\n",
    "    except ValueError: raise Http404(\"No such color\")\n",
    "        \n",
    "    figfile.seek(0)\n",
    "    return HttpResponse(figfile.read(), content_type=\"image/png\")\n"
   ]
  },
  {
   "cell_type": "code",
   "execution_count": null,
   "metadata": {
    "collapsed": true
   },
   "outputs": [],
   "source": []
  }
 ],
 "metadata": {
  "anaconda-cloud": {},
  "kernelspec": {
   "display_name": "Python [conda root]",
   "language": "python",
   "name": "conda-root-py"
  },
  "language_info": {
   "codemirror_mode": {
    "name": "ipython",
    "version": 3
   },
   "file_extension": ".py",
   "mimetype": "text/x-python",
   "name": "python",
   "nbconvert_exporter": "python",
   "pygments_lexer": "ipython3",
   "version": "3.5.2"
  }
 },
 "nbformat": 4,
 "nbformat_minor": 1
}
